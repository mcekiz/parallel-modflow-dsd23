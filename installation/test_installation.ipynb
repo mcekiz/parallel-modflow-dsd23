{
 "cells": [
  {
   "cell_type": "code",
   "execution_count": null,
   "id": "49fdf258-7652-4aa3-856d-09779df64173",
   "metadata": {},
   "outputs": [],
   "source": [
    "import pathlib as pl\n",
    "import numpy as np\n",
    "import matplotlib.pyplot as plt\n",
    "import flopy\n",
    "from flopy.mf6.utils import Mf6Splitter"
   ]
  },
  {
   "cell_type": "code",
   "execution_count": null,
   "id": "ea266f7e-515c-4923-8be3-57e7c8228074",
   "metadata": {},
   "outputs": [],
   "source": [
    "extent = (0, 1000.0, 0, 100.0)\n",
    "nprocessors = 2"
   ]
  },
  {
   "cell_type": "code",
   "execution_count": null,
   "id": "f80980fe-9478-41be-8b85-e9993e479b5d",
   "metadata": {},
   "outputs": [],
   "source": [
    "# load the base parallel model in MODFLOW 6 repo\n",
    "ws = pl.Path(\"../modflow6/.mf6minsim/\")\n",
    "sim = flopy.mf6.MFSimulation.load(sim_ws=ws)"
   ]
  },
  {
   "cell_type": "code",
   "execution_count": null,
   "id": "7f0cf1f6-2239-4123-93e5-92b0fb3f4007",
   "metadata": {},
   "outputs": [],
   "source": [
    "new_ws = pl.Path(\"temp/original\")\n",
    "sim.set_sim_path(new_ws)"
   ]
  },
  {
   "cell_type": "code",
   "execution_count": null,
   "id": "67bcddf1-6a02-4f60-b414-f39402768ecc",
   "metadata": {},
   "outputs": [],
   "source": [
    "# add oc file\n",
    "for name in sim.model_names:\n",
    "    gwf = sim.get_model(name)\n",
    "    oc = flopy.mf6.ModflowGwfoc(\n",
    "        gwf, \n",
    "        head_filerecord=f\"{name}.hds\", \n",
    "        saverecord=[(\"head\", \"all\")],\n",
    "        )"
   ]
  },
  {
   "cell_type": "code",
   "execution_count": null,
   "id": "726eec32-dc5d-4af0-90ce-993864eb942f",
   "metadata": {},
   "outputs": [],
   "source": [
    "sim.write_simulation()\n",
    "sim.run_simulation(processors=nprocessors)"
   ]
  },
  {
   "cell_type": "code",
   "execution_count": null,
   "id": "a14ad5e1-bf31-487b-a1d6-748021b30a9d",
   "metadata": {},
   "outputs": [],
   "source": [
    "# create base_hds array\n",
    "base_hds = np.zeros((1,1,10), dtype=float)\n",
    "for idx, name in enumerate(sim.model_names):\n",
    "    gwf = sim.get_model(name)\n",
    "    v = gwf.output.head().get_data()\n",
    "    base_hds[0, 0, idx*5:(idx+1)*5] = gwf.output.head().get_data()"
   ]
  },
  {
   "cell_type": "code",
   "execution_count": null,
   "id": "92c8d076-ddcc-43ce-9a4d-36aff2496f6b",
   "metadata": {},
   "outputs": [],
   "source": [
    "# plot\n",
    "for name in sim.model_names:\n",
    "    gwf = sim.get_model(name)\n",
    "    pmv = flopy.plot.PlotMapView(model=gwf, extent=extent)\n",
    "    pa = pmv.plot_array(gwf.output.head().get_data(), vmin=1., vmax=10.)\n",
    "    pmv.plot_grid()\n",
    "plt.colorbar(pa, ax=pmv.ax, orientation=\"horizontal\", shrink=0.75);"
   ]
  },
  {
   "cell_type": "code",
   "execution_count": null,
   "id": "74136bd1-fd37-4db5-8dcb-20a34e8cfc40",
   "metadata": {},
   "outputs": [],
   "source": [
    "# create single domain model equivalent to base parallel model in the MODFLOW 6 repo\n",
    "name = \"single\"\n",
    "ws_single = pl.Path(f\"temp/{name}\")\n",
    "sim_base = flopy.mf6.MFSimulation(sim_name=name, sim_ws=ws_single)\n",
    "tdis = flopy.mf6.ModflowTdis(sim_base)\n",
    "ims = flopy.mf6.ModflowIms(sim_base, inner_dvclose=1e-8, outer_dvclose=1e-8)\n",
    "gwf = flopy.mf6.ModflowGwf(sim_base, modelname=name)\n",
    "dis = flopy.mf6.ModflowGwfdis(gwf, nrow=1, ncol=10, nlay=1, top=10.0, botm=-100.0, delr=100.0, delc=100.00)\n",
    "npf = flopy.mf6.ModflowGwfnpf(gwf, icelltype=1, k=1.0)\n",
    "ic = flopy.mf6.ModflowGwfic(gwf, strt=0.0)\n",
    "chd = flopy.mf6.ModflowGwfchd(gwf, stress_period_data=[(0, 0, 0, 1.0), (0, 0, 9, 10.0)])\n",
    "oc =  flopy.mf6.ModflowGwfoc(gwf, head_filerecord=f\"{name}.hds\", saverecord=[(\"head\", \"all\")])"
   ]
  },
  {
   "cell_type": "code",
   "execution_count": null,
   "id": "8fe0560c-1aa4-4a1f-a620-2c6a31408c1a",
   "metadata": {},
   "outputs": [],
   "source": [
    "sim_base.write_simulation()\n",
    "sim_base.run_simulation()"
   ]
  },
  {
   "cell_type": "code",
   "execution_count": null,
   "id": "248ec827-1814-41c0-9a29-7257152859c2",
   "metadata": {},
   "outputs": [],
   "source": [
    "# evaluate if single and base_hds are equal\n",
    "success = np.allclose(gwf.output.head().get_data(), base_hds)\n",
    "assert success, \"base_hds and single_hds do not match\""
   ]
  },
  {
   "cell_type": "code",
   "execution_count": null,
   "id": "d7f993c4-a572-4b46-bffb-d0ec450c8214",
   "metadata": {},
   "outputs": [],
   "source": [
    "# split the model\n",
    "ws_parallel = pl.Path(\"temp/split\")\n",
    "mfsplit = Mf6Splitter(sim_base)\n",
    "split_array = mfsplit.optimize_splitting_mask(nparts=2)\n",
    "new_sim = mfsplit.split_model(split_array)\n",
    "new_sim.set_sim_path(ws_parallel)"
   ]
  },
  {
   "cell_type": "code",
   "execution_count": null,
   "id": "09c97d6f-b4c1-4403-92e4-14172e6e70dd",
   "metadata": {},
   "outputs": [],
   "source": [
    "new_sim.write_simulation()\n",
    "new_sim.run_simulation(processors=2)"
   ]
  },
  {
   "cell_type": "code",
   "execution_count": null,
   "id": "86cd2fb5-04bd-4797-aba4-62f784384362",
   "metadata": {},
   "outputs": [],
   "source": [
    "# construct a single head array from models\n",
    "model_names = list(new_sim.model_names)\n",
    "head_dict = {}\n",
    "for modelname in model_names:\n",
    "    mnum = int(modelname.split(\"_\")[-1])\n",
    "    head = new_sim.get_model(modelname).output.head().get_data()\n",
    "    head_dict[mnum] = head\n",
    "split_hds = mfsplit.reconstruct_array(head_dict)"
   ]
  },
  {
   "cell_type": "code",
   "execution_count": null,
   "id": "a080c760-1ed3-455b-8b2b-ef73e63a7964",
   "metadata": {},
   "outputs": [],
   "source": [
    "# evaluate if single and split_hds are equal\n",
    "success = np.allclose(base_hds, split_hds)\n",
    "assert success, \"base_hds and split_hds do not match\""
   ]
  }
 ],
 "metadata": {
  "kernelspec": {
   "display_name": "Python 3 (ipykernel)",
   "language": "python",
   "name": "python3"
  },
  "language_info": {
   "codemirror_mode": {
    "name": "ipython",
    "version": 3
   },
   "file_extension": ".py",
   "mimetype": "text/x-python",
   "name": "python",
   "nbconvert_exporter": "python",
   "pygments_lexer": "ipython3",
   "version": "3.11.0"
  }
 },
 "nbformat": 4,
 "nbformat_minor": 5
}
