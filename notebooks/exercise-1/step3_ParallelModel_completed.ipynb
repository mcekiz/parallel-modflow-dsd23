{
 "cells": [
  {
   "cell_type": "code",
   "execution_count": null,
   "id": "e9b48f95-ed89-4b6f-9ca9-bc36ba2ffdd0",
   "metadata": {},
   "outputs": [],
   "source": [
    "import pathlib as pl\n",
    "import numpy as np\n",
    "import matplotlib.pyplot as plt\n",
    "import flopy\n",
    "from flopy.mf6.utils import Mf6Splitter"
   ]
  },
  {
   "cell_type": "markdown",
   "id": "5aa2efef-b777-4eec-b437-4a89b7beb424",
   "metadata": {},
   "source": [
    "# Split Model Location"
   ]
  },
  {
   "cell_type": "code",
   "execution_count": null,
   "id": "18cbd1ef-4bb6-49f7-933c-585ec37fb48f",
   "metadata": {},
   "outputs": [],
   "source": [
    "name = \"ex1\"\n",
    "ws = pl.Path(\"working/single\")"
   ]
  },
  {
   "cell_type": "code",
   "execution_count": null,
   "id": "8b81dd23-65bf-463f-90ef-8c3c00e65e77",
   "metadata": {},
   "outputs": [],
   "source": [
    "ex_pth = \"../../.pixi/env/bin/mf6\""
   ]
  },
  {
   "cell_type": "markdown",
   "id": "d4c8d754-3f36-4bdf-820c-bd9750c2c8a4",
   "metadata": {},
   "source": [
    "# Load the base model"
   ]
  },
  {
   "cell_type": "code",
   "execution_count": null,
   "id": "fc996e95-3d9e-4e51-a07f-30431887334e",
   "metadata": {},
   "outputs": [],
   "source": [
    "sim = flopy.mf6.MFSimulation.load(sim_name=name, sim_ws=ws, exe_name=ex_pth)"
   ]
  },
  {
   "cell_type": "code",
   "execution_count": null,
   "id": "c2d82d58-a106-41f5-966b-4697c28f8fae",
   "metadata": {},
   "outputs": [],
   "source": [
    "gwf = sim.get_model()"
   ]
  },
  {
   "cell_type": "markdown",
   "id": "f37451b1-9702-4a56-b3ab-fc1a70050a21",
   "metadata": {},
   "source": [
    "# Load the split model"
   ]
  },
  {
   "cell_type": "code",
   "execution_count": null,
   "id": "981769de-29a9-4cc7-a876-32f529cba73b",
   "metadata": {},
   "outputs": [],
   "source": [
    "split_ws = pl.Path(\"working/split\")"
   ]
  },
  {
   "cell_type": "code",
   "execution_count": null,
   "id": "fe42b6cb-abb6-4963-8ba3-892b3f8ebde8",
   "metadata": {},
   "outputs": [],
   "source": [
    "new_sim = flopy.mf6.MFSimulation.load(sim_name=name, sim_ws=split_ws, exe_name=ex_pth)"
   ]
  },
  {
   "cell_type": "markdown",
   "id": "88ad3a8b-9536-4cec-9c28-45b01998c820",
   "metadata": {},
   "source": [
    "# Change the workspace, write the model, and run in parallel"
   ]
  },
  {
   "cell_type": "code",
   "execution_count": null,
   "id": "b70578f7-c264-450a-9c90-0bc8fee45c7a",
   "metadata": {},
   "outputs": [],
   "source": [
    "new_ws = pl.Path(\"working/parallel\")\n",
    "new_sim.set_sim_path(new_ws)"
   ]
  },
  {
   "cell_type": "code",
   "execution_count": null,
   "id": "f19bde52-8fa8-4dbf-a975-6f858756f609",
   "metadata": {},
   "outputs": [],
   "source": [
    "new_sim.write_simulation()"
   ]
  },
  {
   "cell_type": "code",
   "execution_count": null,
   "id": "18aeab90-ef78-499b-a27a-da66e8fe49ba",
   "metadata": {},
   "outputs": [],
   "source": [
    "nprocessors = len(new_sim.model_names)"
   ]
  },
  {
   "cell_type": "code",
   "execution_count": null,
   "id": "99e32d41-8ec6-4b29-8edf-d13d514c5141",
   "metadata": {},
   "outputs": [],
   "source": [
    "new_sim.run_simulation(processors=nprocessors)"
   ]
  },
  {
   "cell_type": "markdown",
   "id": "1fbc9344-50e8-4bb1-8e98-c6ed5f7ae7a8",
   "metadata": {},
   "source": [
    "## Get model output\n",
    "\n",
    "### Single model"
   ]
  },
  {
   "cell_type": "code",
   "execution_count": null,
   "id": "afcd6ae1-cfa3-436a-95d1-29c740eac75e",
   "metadata": {},
   "outputs": [],
   "source": [
    "kstpkper = (0,3)"
   ]
  },
  {
   "cell_type": "code",
   "execution_count": null,
   "id": "2df6dfaf-b8b1-440c-9092-0c06b0c2ace3",
   "metadata": {},
   "outputs": [],
   "source": [
    "head = gwf.output.head().get_data(kstpkper=kstpkper)\n",
    "head.shape"
   ]
  },
  {
   "cell_type": "code",
   "execution_count": null,
   "id": "329ff5aa-628e-4c71-bc59-7e82bd5d2c7a",
   "metadata": {},
   "outputs": [],
   "source": [
    "spdis = gwf.output.budget().get_data(text=\"SPDIS\", kstpkper=kstpkper)[0]"
   ]
  },
  {
   "cell_type": "code",
   "execution_count": null,
   "id": "114ed3ca-bb37-48c3-abcf-3c77256eb67f",
   "metadata": {},
   "outputs": [],
   "source": [
    "qx, qy, qz = flopy.utils.postprocessing.get_specific_discharge(spdis, gwf)"
   ]
  },
  {
   "cell_type": "markdown",
   "id": "71124d99-c698-46c7-8547-6cab66b0dc1d",
   "metadata": {},
   "source": [
    "### Parallel model"
   ]
  },
  {
   "cell_type": "code",
   "execution_count": null,
   "id": "85da6a19-66e0-49ec-be66-02f811223f57",
   "metadata": {},
   "outputs": [],
   "source": [
    "json_path = pl.Path(\"working/split/split.json\")\n",
    "mfsplit = Mf6Splitter(sim)\n",
    "mfsplit.load_node_mapping(new_sim, json_path)"
   ]
  },
  {
   "cell_type": "code",
   "execution_count": null,
   "id": "f9f1b5fd-ae18-4860-b4d2-36ad4bd6ecd4",
   "metadata": {},
   "outputs": [],
   "source": [
    "head_dict = {}\n",
    "for idx, modelname in enumerate(new_sim.model_names):\n",
    "    mnum = int(modelname.split(\"_\")[-1])\n",
    "    h = new_sim.get_model(modelname).output.head().get_data(kstpkper=kstpkper)\n",
    "    head_dict[mnum] = h"
   ]
  },
  {
   "cell_type": "code",
   "execution_count": null,
   "id": "ccc62d50-5f87-4c26-a2a2-bc825e490336",
   "metadata": {},
   "outputs": [],
   "source": [
    "new_head = mfsplit.reconstruct_array(head_dict)\n",
    "new_head.shape"
   ]
  },
  {
   "cell_type": "markdown",
   "id": "aaea179b-170e-4d2b-b14d-5660ac243bae",
   "metadata": {},
   "source": [
    "## Compare head results"
   ]
  },
  {
   "cell_type": "code",
   "execution_count": null,
   "id": "d3e64545-e53d-443a-89f2-a7952aa0cd3b",
   "metadata": {},
   "outputs": [],
   "source": [
    "np.allclose(head, new_head)"
   ]
  },
  {
   "cell_type": "markdown",
   "id": "ede14e0d-6fa3-4f98-a3af-584f24724a1d",
   "metadata": {},
   "source": [
    "## Plot model results"
   ]
  },
  {
   "cell_type": "code",
   "execution_count": null,
   "id": "b8650c00-f3f8-4b55-a645-c305413c29da",
   "metadata": {},
   "outputs": [],
   "source": [
    "plt_lay = 2"
   ]
  },
  {
   "cell_type": "code",
   "execution_count": null,
   "id": "7609b5bb-5cf4-4323-a6d8-fcd64e8784fc",
   "metadata": {},
   "outputs": [],
   "source": [
    "vmin, vmax = head[plt_lay].min(), head[plt_lay].max()\n",
    "vmin, vmax"
   ]
  },
  {
   "cell_type": "markdown",
   "id": "abb3c299-bf6f-424d-9e7b-e41c312e2cef",
   "metadata": {},
   "source": [
    "### Map"
   ]
  },
  {
   "cell_type": "code",
   "execution_count": null,
   "id": "d58c7580-d5ea-44f5-94bc-e25a13ec065b",
   "metadata": {},
   "outputs": [],
   "source": [
    "fig = plt.figure(figsize=(15,7))\n",
    "\n",
    "ax = fig.add_subplot(1, 3, 1)\n",
    "pmv = flopy.plot.PlotMapView(model=sim.get_model(), ax=ax, layer=plt_lay)\n",
    "hp = pmv.plot_array(head, vmin=vmin, vmax=vmax)\n",
    "pmv.plot_grid()\n",
    "pmv.plot_vector(qx, qy, normalize=True)\n",
    "cb = plt.colorbar(hp, ax=ax, shrink=0.75, orientation=\"horizontal\")\n",
    "\n",
    "ax = fig.add_subplot(1, 3, 2)\n",
    "pmv = flopy.plot.PlotMapView(model=sim.get_model(), ax=ax, layer=plt_lay)\n",
    "hp = pmv.plot_array(new_head, vmin=vmin, vmax=vmax)\n",
    "for name in new_sim.model_names:\n",
    "    new_gwf = new_sim.get_model(name)\n",
    "    # h = new_gwf.output.head().get_data(kstpkper=kstpkper)\n",
    "    spdis = new_gwf.output.budget().get_data(text=\"SPDIS\", kstpkper=kstpkper)[0]\n",
    "    qx, qy, qz = flopy.utils.postprocessing.get_specific_discharge(spdis, new_gwf)\n",
    "\n",
    "    pmv = flopy.plot.PlotMapView(model=new_gwf, ax=ax, layer=plt_lay, extent=gwf.modelgrid.extent)\n",
    "    # hp = pmv.plot_array(h, vmin=vmin, vmax=vmax)\n",
    "    pmv.plot_grid()\n",
    "    pmv.plot_vector(qx, qy, normalize=True)\n",
    "cb = plt.colorbar(hp, ax=ax, shrink=0.75, orientation=\"horizontal\")   \n",
    "\n",
    "ax = fig.add_subplot(1, 3, 3)\n",
    "pmv = flopy.plot.PlotMapView(model=sim.get_model(), ax=ax, layer=plt_lay)\n",
    "dp = pmv.plot_array(head-new_head)\n",
    "pmv.plot_grid()\n",
    "cb = plt.colorbar(dp, ax=ax, shrink=0.75, orientation=\"horizontal\")\n"
   ]
  },
  {
   "cell_type": "code",
   "execution_count": null,
   "id": "3dd51857-5ade-4dc0-9a48-a091a84b6444",
   "metadata": {},
   "outputs": [],
   "source": []
  }
 ],
 "metadata": {
  "kernelspec": {
   "display_name": "Python 3 (ipykernel)",
   "language": "python",
   "name": "python3"
  },
  "language_info": {
   "codemirror_mode": {
    "name": "ipython",
    "version": 3
   },
   "file_extension": ".py",
   "mimetype": "text/x-python",
   "name": "python",
   "nbconvert_exporter": "python",
   "pygments_lexer": "ipython3",
   "version": "3.11.6"
  }
 },
 "nbformat": 4,
 "nbformat_minor": 5
}
