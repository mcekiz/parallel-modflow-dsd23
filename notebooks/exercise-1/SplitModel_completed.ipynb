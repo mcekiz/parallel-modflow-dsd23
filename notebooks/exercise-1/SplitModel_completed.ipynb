{
 "cells": [
  {
   "cell_type": "code",
   "execution_count": null,
   "id": "e9b48f95-ed89-4b6f-9ca9-bc36ba2ffdd0",
   "metadata": {},
   "outputs": [],
   "source": [
    "import pathlib as pl\n",
    "import numpy as np\n",
    "import matplotlib.pyplot as plt\n",
    "import flopy\n",
    "from flopy.mf6.utils import Mf6Splitter"
   ]
  },
  {
   "cell_type": "markdown",
   "id": "c9d3bf91-ec72-40cc-8039-1fa1b44694ea",
   "metadata": {},
   "source": [
    "# Function to split model domain"
   ]
  },
  {
   "cell_type": "code",
   "execution_count": null,
   "id": "26dd368e-41aa-4557-b245-935e0b8900a8",
   "metadata": {},
   "outputs": [],
   "source": [
    "def simple_mapping(\n",
    "    nrow_blocks: int,\n",
    "    ncol_blocks: int,\n",
    "    modelgrid: flopy.discretization.StructuredGrid,\n",
    ") -> np.ndarray:\n",
    "    \"\"\"\n",
    "    Create a simple block-based mapping array for a structured grid\n",
    "\n",
    "    Parameters\n",
    "    ----------\n",
    "    nrow_blocks: int\n",
    "        Number of models in the row direction of a domain.\n",
    "    ncol_blocks: int\n",
    "        Number of models in the column direction of a domain.\n",
    "    modelgrid: flopy.discretization.StructuredGrid\n",
    "        flopy modelgrid object\n",
    "\n",
    "    Returns\n",
    "    -------\n",
    "    mask: np.ndarray\n",
    "        block-based mapping array for the model splitter\n",
    "\n",
    "    \"\"\"\n",
    "    if modelgrid.grid_type != \"structured\":\n",
    "        raise ValueError(\n",
    "            f\"modelgrid must be 'structured' not {modelgrid.grid_type}\"\n",
    "        )\n",
    "    nrow, ncol = modelgrid.nrow, modelgrid.ncol\n",
    "    row_inc, col_inc = int(nrow / nrow_blocks), int(ncol / ncol_blocks)\n",
    "\n",
    "    # create a list of row boundaries\n",
    "    icnt = 0\n",
    "    row_blocks = [icnt]\n",
    "    for i in range(nrow_blocks):\n",
    "        icnt += row_inc\n",
    "        row_blocks.append(icnt)\n",
    "    if row_blocks[-1] < nrow:\n",
    "        row_blocks[-1] = nrow\n",
    "\n",
    "    # create a list of column boundaries\n",
    "    icnt = 0\n",
    "    col_blocks = [icnt]\n",
    "    for i in range(ncol_blocks):\n",
    "        icnt += col_inc\n",
    "        col_blocks.append(icnt)\n",
    "    if col_blocks[-1] < ncol:\n",
    "        col_blocks[-1] = ncol\n",
    "\n",
    "    # create masking array - zero-based model number\n",
    "    mask = np.zeros((nrow, ncol), dtype=int)\n",
    "    ival = 0\n",
    "    model_row_col_offset = {}\n",
    "    for idx in range(len(row_blocks) - 1):\n",
    "        for jdx in range(len(col_blocks) - 1):\n",
    "            mask[\n",
    "                row_blocks[idx] : row_blocks[idx + 1],\n",
    "                col_blocks[jdx] : col_blocks[jdx + 1],\n",
    "            ] = ival\n",
    "            model_row_col_offset[ival - 1] = (row_blocks[idx], col_blocks[jdx])\n",
    "            # increment model number\n",
    "            ival += 1\n",
    "\n",
    "    return mask"
   ]
  },
  {
   "cell_type": "markdown",
   "id": "5aa2efef-b777-4eec-b437-4a89b7beb424",
   "metadata": {},
   "source": [
    "# Base Model Location"
   ]
  },
  {
   "cell_type": "code",
   "execution_count": null,
   "id": "18cbd1ef-4bb6-49f7-933c-585ec37fb48f",
   "metadata": {},
   "outputs": [],
   "source": [
    "name = \"ex1\"\n",
    "ws = pl.Path(\"working/single\")"
   ]
  },
  {
   "cell_type": "code",
   "execution_count": null,
   "id": "8b81dd23-65bf-463f-90ef-8c3c00e65e77",
   "metadata": {},
   "outputs": [],
   "source": [
    "ex_pth = \"../../.pixi/env/bin/mf6\""
   ]
  },
  {
   "cell_type": "markdown",
   "id": "d4c8d754-3f36-4bdf-820c-bd9750c2c8a4",
   "metadata": {},
   "source": [
    "# Load the base model"
   ]
  },
  {
   "cell_type": "code",
   "execution_count": null,
   "id": "fc996e95-3d9e-4e51-a07f-30431887334e",
   "metadata": {},
   "outputs": [],
   "source": [
    "sim = flopy.mf6.MFSimulation.load(sim_name=name, sim_ws=ws, exe_name=ex_pth, use_pandas=False)"
   ]
  },
  {
   "cell_type": "code",
   "execution_count": null,
   "id": "c2d82d58-a106-41f5-966b-4697c28f8fae",
   "metadata": {},
   "outputs": [],
   "source": [
    "gwf = sim.get_model()"
   ]
  },
  {
   "cell_type": "code",
   "execution_count": null,
   "id": "3e9433e8-9131-4a82-9c0e-8bdae2fc7bce",
   "metadata": {},
   "outputs": [],
   "source": [
    "gwf.dis"
   ]
  },
  {
   "cell_type": "markdown",
   "id": "09da808f-5bc8-4150-b557-809ddec7e537",
   "metadata": {},
   "source": [
    "# Split the model\n",
    "\n",
    "## Create the splitting array"
   ]
  },
  {
   "cell_type": "code",
   "execution_count": null,
   "id": "edd9d1d8-673a-40f5-bb76-584a70255464",
   "metadata": {},
   "outputs": [],
   "source": [
    "sarr = simple_mapping(2, 1, gwf.modelgrid)"
   ]
  },
  {
   "cell_type": "code",
   "execution_count": null,
   "id": "95f3587e-b431-428c-838e-0ffd19311c55",
   "metadata": {},
   "outputs": [],
   "source": [
    "sarr.shape"
   ]
  },
  {
   "cell_type": "code",
   "execution_count": null,
   "id": "2996abaa-1b02-4138-b293-5116e64d5bf5",
   "metadata": {},
   "outputs": [],
   "source": [
    "v = plt.imshow(sarr)\n",
    "plt.colorbar(v)"
   ]
  },
  {
   "cell_type": "markdown",
   "id": "de54905d-610d-4743-8ec7-a159f569160e",
   "metadata": {},
   "source": [
    "## Split the base model"
   ]
  },
  {
   "cell_type": "code",
   "execution_count": null,
   "id": "12c9666f-2eb1-468a-800f-91a79bc54e37",
   "metadata": {},
   "outputs": [],
   "source": [
    "new_ws = pl.Path(\"working/split\")"
   ]
  },
  {
   "cell_type": "code",
   "execution_count": null,
   "id": "e14edcd6-42b5-45db-9f01-2fbbf2bfeb7f",
   "metadata": {},
   "outputs": [],
   "source": [
    "mfsplit = Mf6Splitter(sim)"
   ]
  },
  {
   "cell_type": "code",
   "execution_count": null,
   "id": "a1e89a75-eca0-4de0-ad7d-7dc055e4b067",
   "metadata": {},
   "outputs": [],
   "source": [
    "new_sim = mfsplit.split_model(sarr)"
   ]
  },
  {
   "cell_type": "code",
   "execution_count": null,
   "id": "6ef90efc-25b4-4f55-8f60-b4c7ec49bef6",
   "metadata": {},
   "outputs": [],
   "source": [
    "new_sim.set_sim_path(new_ws)"
   ]
  },
  {
   "cell_type": "code",
   "execution_count": null,
   "id": "32bda029-fcc3-4cae-a44c-541c42afe105",
   "metadata": {},
   "outputs": [],
   "source": [
    "new_sim.exe_name = ex_pth"
   ]
  },
  {
   "cell_type": "markdown",
   "id": "5d1e5a3b-89a8-4c54-8be5-667ae060f972",
   "metadata": {},
   "source": [
    "## Write the model files and run the simulation"
   ]
  },
  {
   "cell_type": "code",
   "execution_count": null,
   "id": "9b0f8390-b144-4ccc-83d6-f1d92863bcea",
   "metadata": {},
   "outputs": [],
   "source": [
    "new_sim.write_simulation()"
   ]
  },
  {
   "cell_type": "code",
   "execution_count": null,
   "id": "072bd85e-5c15-4b3c-8330-9f19cfe9bc35",
   "metadata": {},
   "outputs": [],
   "source": [
    "new_sim.run_simulation()"
   ]
  },
  {
   "cell_type": "markdown",
   "id": "1fbc9344-50e8-4bb1-8e98-c6ed5f7ae7a8",
   "metadata": {},
   "source": [
    "## Get model output"
   ]
  },
  {
   "cell_type": "code",
   "execution_count": null,
   "id": "f99e9b3d-1384-43bb-ab3e-33b8b39c9051",
   "metadata": {},
   "outputs": [],
   "source": [
    "gwf.output.methods()"
   ]
  },
  {
   "cell_type": "code",
   "execution_count": null,
   "id": "833323ee-48dd-4d4e-8265-3ee4ee2f84a0",
   "metadata": {},
   "outputs": [],
   "source": [
    "gwf.output.head().get_times()"
   ]
  },
  {
   "cell_type": "code",
   "execution_count": null,
   "id": "36ab0a5d-2c46-4c05-8ebb-2b0ddb29d421",
   "metadata": {},
   "outputs": [],
   "source": [
    "gwf.output.head().get_kstpkper()"
   ]
  },
  {
   "cell_type": "code",
   "execution_count": null,
   "id": "afcd6ae1-cfa3-436a-95d1-29c740eac75e",
   "metadata": {},
   "outputs": [],
   "source": [
    "kstpkper = (0,2)"
   ]
  },
  {
   "cell_type": "code",
   "execution_count": null,
   "id": "2df6dfaf-b8b1-440c-9092-0c06b0c2ace3",
   "metadata": {},
   "outputs": [],
   "source": [
    "head = gwf.output.head().get_data(kstpkper=kstpkper)"
   ]
  },
  {
   "cell_type": "code",
   "execution_count": null,
   "id": "329ff5aa-628e-4c71-bc59-7e82bd5d2c7a",
   "metadata": {},
   "outputs": [],
   "source": [
    "spdis = gwf.output.budget().get_data(text=\"SPDIS\", kstpkper=kstpkper)[0]"
   ]
  },
  {
   "cell_type": "code",
   "execution_count": null,
   "id": "114ed3ca-bb37-48c3-abcf-3c77256eb67f",
   "metadata": {},
   "outputs": [],
   "source": [
    "qx, qy, qz = flopy.utils.postprocessing.get_specific_discharge(spdis, gwf)"
   ]
  },
  {
   "cell_type": "markdown",
   "id": "ede14e0d-6fa3-4f98-a3af-584f24724a1d",
   "metadata": {},
   "source": [
    "## Plot model results"
   ]
  },
  {
   "cell_type": "code",
   "execution_count": null,
   "id": "b8650c00-f3f8-4b55-a645-c305413c29da",
   "metadata": {},
   "outputs": [],
   "source": [
    "plt_lay = 2"
   ]
  },
  {
   "cell_type": "code",
   "execution_count": null,
   "id": "7609b5bb-5cf4-4323-a6d8-fcd64e8784fc",
   "metadata": {},
   "outputs": [],
   "source": [
    "vmin, vmax = head[plt_lay].min(), head[plt_lay].max()\n",
    "vmin, vmax"
   ]
  },
  {
   "cell_type": "markdown",
   "id": "abb3c299-bf6f-424d-9e7b-e41c312e2cef",
   "metadata": {},
   "source": [
    "### Map"
   ]
  },
  {
   "cell_type": "code",
   "execution_count": null,
   "id": "d58c7580-d5ea-44f5-94bc-e25a13ec065b",
   "metadata": {},
   "outputs": [],
   "source": [
    "fig = plt.figure(figsize=(10,7))\n",
    "\n",
    "ax = fig.add_subplot(1, 2, 1)\n",
    "pmv = flopy.plot.PlotMapView(model=sim.get_model(), ax=ax, layer=plt_lay)\n",
    "hp = pmv.plot_array(head, vmin=vmin, vmax=vmax)\n",
    "pmv.plot_grid()\n",
    "pmv.plot_vector(qx, qy, normalize=True)\n",
    "cb = plt.colorbar(hp, ax=ax, shrink=0.75, orientation=\"horizontal\")\n",
    "\n",
    "ax = fig.add_subplot(1, 2, 2)\n",
    "for name in new_sim.model_names:\n",
    "    new_gwf = new_sim.get_model(name)\n",
    "    h = new_gwf.output.head().get_data(kstpkper=kstpkper)\n",
    "    spdis = new_gwf.output.budget().get_data(text=\"SPDIS\", kstpkper=kstpkper)[0]\n",
    "    qx, qy, qz = flopy.utils.postprocessing.get_specific_discharge(spdis, new_gwf)\n",
    "\n",
    "    pmv = flopy.plot.PlotMapView(model=new_gwf, ax=ax, layer=plt_lay, extent=gwf.modelgrid.extent)\n",
    "    hp = pmv.plot_array(h, vmin=vmin, vmax=vmax)\n",
    "    pmv.plot_grid()\n",
    "    pmv.plot_vector(qx, qy, normalize=True)\n",
    "cb = plt.colorbar(hp, ax=ax, shrink=0.75, orientation=\"horizontal\")   "
   ]
  },
  {
   "cell_type": "code",
   "execution_count": null,
   "id": "079ee383-4212-4659-a1a5-4f93fbee96f0",
   "metadata": {},
   "outputs": [],
   "source": []
  }
 ],
 "metadata": {
  "kernelspec": {
   "display_name": "Python 3 (ipykernel)",
   "language": "python",
   "name": "python3"
  },
  "language_info": {
   "codemirror_mode": {
    "name": "ipython",
    "version": 3
   },
   "file_extension": ".py",
   "mimetype": "text/x-python",
   "name": "python",
   "nbconvert_exporter": "python",
   "pygments_lexer": "ipython3",
   "version": "3.11.6"
  }
 },
 "nbformat": 4,
 "nbformat_minor": 5
}
