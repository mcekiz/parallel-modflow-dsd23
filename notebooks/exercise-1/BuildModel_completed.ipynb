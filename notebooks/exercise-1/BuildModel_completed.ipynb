{
 "cells": [
  {
   "cell_type": "code",
   "execution_count": null,
   "id": "e9b48f95-ed89-4b6f-9ca9-bc36ba2ffdd0",
   "metadata": {},
   "outputs": [],
   "source": [
    "import pathlib as pl\n",
    "import numpy as np\n",
    "import matplotlib.pyplot as plt\n",
    "import flopy\n",
    "import flopy.mf6 as fp6"
   ]
  },
  {
   "cell_type": "markdown",
   "id": "5aa2efef-b777-4eec-b437-4a89b7beb424",
   "metadata": {},
   "source": [
    "# Base Model Location"
   ]
  },
  {
   "cell_type": "code",
   "execution_count": null,
   "id": "18cbd1ef-4bb6-49f7-933c-585ec37fb48f",
   "metadata": {},
   "outputs": [],
   "source": [
    "name = \"ex1\"\n",
    "ws = pl.Path(\"working/single\")"
   ]
  },
  {
   "cell_type": "code",
   "execution_count": null,
   "id": "8b81dd23-65bf-463f-90ef-8c3c00e65e77",
   "metadata": {},
   "outputs": [],
   "source": [
    "ex_pth = \"../../.pixi/env/bin/mf6\""
   ]
  },
  {
   "cell_type": "markdown",
   "id": "b98eb8d7-f937-443b-8ab7-d9ea09eedafe",
   "metadata": {},
   "source": [
    "# Problem Dimensions\n",
    "\n",
    "## Temporal Discretization"
   ]
  },
  {
   "cell_type": "code",
   "execution_count": null,
   "id": "d8e40166-359e-48a2-9329-034c53823cc3",
   "metadata": {},
   "outputs": [],
   "source": [
    "nper = 3\n",
    "tdis_data = [\n",
    "    (300000., 1, 1.0),\n",
    "    (36500., 10, 1.5),\n",
    "    (300000, 1, 1.0),\n",
    "]"
   ]
  },
  {
   "cell_type": "markdown",
   "id": "607a04ce-cdc4-44e6-8cfd-d799e709d8e4",
   "metadata": {},
   "source": [
    "## Spatial Discretization"
   ]
  },
  {
   "cell_type": "code",
   "execution_count": null,
   "id": "30f523ee-6477-4811-9dcd-329df82d7a83",
   "metadata": {},
   "outputs": [],
   "source": [
    "nlay, nrow, ncol = 3, 21, 20"
   ]
  },
  {
   "cell_type": "code",
   "execution_count": null,
   "id": "e1bf8da7-409b-4615-b7d6-228956584b63",
   "metadata": {},
   "outputs": [],
   "source": [
    "xlen, ylen = 10000., 10500."
   ]
  },
  {
   "cell_type": "code",
   "execution_count": null,
   "id": "bbdc677e-6b5d-4f21-b371-d7d491991f59",
   "metadata": {},
   "outputs": [],
   "source": [
    "delc = ylen / nrow\n",
    "delr = xlen / ncol\n",
    "delr, delc"
   ]
  },
  {
   "cell_type": "code",
   "execution_count": null,
   "id": "0285fe21-af12-4c40-90e4-87c33cfe6e40",
   "metadata": {},
   "outputs": [],
   "source": [
    "top = 400.\n",
    "botm = [220., 200., 0]"
   ]
  },
  {
   "cell_type": "markdown",
   "id": "854bc36a-fa71-4c79-a284-6fe94addaa60",
   "metadata": {},
   "source": [
    "## Hydraulic Properties"
   ]
  },
  {
   "cell_type": "code",
   "execution_count": null,
   "id": "9308ec4c-0961-4a24-94e4-820b7c6fb17e",
   "metadata": {},
   "outputs": [],
   "source": [
    "K11 = [50., 0.01, 200.]\n",
    "K33 = [10., 0.01, 20.]"
   ]
  },
  {
   "cell_type": "markdown",
   "id": "4d303ac2-c00e-4bad-98cc-2e1412ea544e",
   "metadata": {},
   "source": [
    "## Storage properties"
   ]
  },
  {
   "cell_type": "code",
   "execution_count": null,
   "id": "21ca3123-9a79-44f6-81e8-185e0846aa62",
   "metadata": {},
   "outputs": [],
   "source": [
    "Ss, Sy = 0.0001, 0.1"
   ]
  },
  {
   "cell_type": "markdown",
   "id": "696560e3-5496-4e5d-a118-4961bccdd06b",
   "metadata": {},
   "source": [
    "## Boundary Condition data"
   ]
  },
  {
   "cell_type": "code",
   "execution_count": null,
   "id": "f737bcfe-301f-43ad-85bc-18f5acc30e11",
   "metadata": {},
   "outputs": [],
   "source": [
    "H_east = 320."
   ]
  },
  {
   "cell_type": "code",
   "execution_count": null,
   "id": "7a44598b-53f0-479c-ab43-bc7f528e187b",
   "metadata": {},
   "outputs": [],
   "source": [
    "recharge = 0.005"
   ]
  },
  {
   "cell_type": "markdown",
   "id": "084b62ae-1cfd-49d1-95b9-497cef54797f",
   "metadata": {},
   "source": [
    "# Build the model\n",
    "\n",
    "## MODFLOW Simulation files"
   ]
  },
  {
   "cell_type": "code",
   "execution_count": null,
   "id": "fb04ac87-2e8b-49d5-b541-465f41ff8a82",
   "metadata": {},
   "outputs": [],
   "source": [
    "sim = fp6.MFSimulation(sim_name=name, sim_ws=ws, exe_name=ex_pth)"
   ]
  },
  {
   "cell_type": "code",
   "execution_count": null,
   "id": "ca34d18c-23e8-4d59-ab39-ad45389beeea",
   "metadata": {},
   "outputs": [],
   "source": [
    "tdis = fp6.ModflowTdis(sim, nper=nper, perioddata=tdis_data, time_units=\"days\")"
   ]
  },
  {
   "cell_type": "code",
   "execution_count": null,
   "id": "84ec639c-88a8-40cd-96a9-304d668ece84",
   "metadata": {},
   "outputs": [],
   "source": [
    "ims = fp6.ModflowIms(sim, complexity=\"simple\", print_option=\"all\")"
   ]
  },
  {
   "cell_type": "markdown",
   "id": "e7953920-7485-4835-955b-d2b3df564a20",
   "metadata": {},
   "source": [
    "## Groundwater flow model"
   ]
  },
  {
   "cell_type": "code",
   "execution_count": null,
   "id": "6330b572-4514-4d33-b701-0ac88940e784",
   "metadata": {},
   "outputs": [],
   "source": [
    "gwf = fp6.ModflowGwf(sim, modelname=name, save_flows=True)"
   ]
  },
  {
   "cell_type": "code",
   "execution_count": null,
   "id": "5fbf6537-b481-4836-8c6e-827ddfb5018f",
   "metadata": {},
   "outputs": [],
   "source": [
    "dis = fp6.ModflowGwfdis(gwf, nlay=nlay, nrow=nrow, ncol=ncol, delr=delr, delc=delc, top=top, botm=botm, length_units=\"meters\")"
   ]
  },
  {
   "cell_type": "code",
   "execution_count": null,
   "id": "a7c5dfe0-739d-4f1f-ad40-1ff4a9398790",
   "metadata": {},
   "outputs": [],
   "source": [
    "gwf.modelgrid"
   ]
  },
  {
   "cell_type": "code",
   "execution_count": null,
   "id": "d58b95c0-d80e-4347-9117-9972a134c747",
   "metadata": {},
   "outputs": [],
   "source": [
    "npf = fp6.ModflowGwfnpf(gwf, icelltype=1, save_specific_discharge=True, k=K11, k33=K33)"
   ]
  },
  {
   "cell_type": "code",
   "execution_count": null,
   "id": "9e5b0207-dfed-4624-9f5e-a77cba5730c3",
   "metadata": {},
   "outputs": [],
   "source": [
    "sto = fp6.ModflowGwfsto(gwf, iconvert=1, ss=Ss, sy=Sy, steady_state={0: True, 2: True}, transient={1:True})"
   ]
  },
  {
   "cell_type": "code",
   "execution_count": null,
   "id": "ae039e29-234b-4a05-8474-7204b7e32e40",
   "metadata": {},
   "outputs": [],
   "source": [
    "ic = fp6.ModflowGwfic(gwf, strt=top)"
   ]
  },
  {
   "cell_type": "code",
   "execution_count": null,
   "id": "3ad504d6-f0f2-41f0-975b-116c3714b28b",
   "metadata": {},
   "outputs": [],
   "source": [
    "oc = fp6.ModflowGwfoc(gwf, head_filerecord=f\"{name}.hds\", budget_filerecord=f\"{name}.cbc\", saverecord={0: [(\"head\", \"all\"), (\"budget\", \"all\")]})"
   ]
  },
  {
   "cell_type": "markdown",
   "id": "0fac755f-1e4b-469a-b809-db8f9aba2c46",
   "metadata": {},
   "source": [
    "## Boundary conditions\n",
    "\n",
    "### Groundwater recharge"
   ]
  },
  {
   "cell_type": "code",
   "execution_count": null,
   "id": "17a67753-30ef-4a58-8e2a-1dd6cd3920dc",
   "metadata": {},
   "outputs": [],
   "source": [
    "rch = fp6.ModflowGwfrcha(gwf, recharge=recharge)"
   ]
  },
  {
   "cell_type": "markdown",
   "id": "1544ce01-f4ac-4b12-9eb2-9262b85cbf51",
   "metadata": {},
   "source": [
    "### Constant head"
   ]
  },
  {
   "cell_type": "code",
   "execution_count": null,
   "id": "a8070c97-f3d5-4d39-965b-caadaffd690c",
   "metadata": {},
   "outputs": [],
   "source": [
    "chd_spd = [(0, i, ncol-1, H_east) for i in range(nrow)]"
   ]
  },
  {
   "cell_type": "code",
   "execution_count": null,
   "id": "47a4d241-9efb-4828-a457-11ee456f9815",
   "metadata": {},
   "outputs": [],
   "source": [
    "chd = fp6.ModflowGwfchd(gwf, stress_period_data=chd_spd)"
   ]
  },
  {
   "cell_type": "markdown",
   "id": "a9ce9163-cc65-456d-8fa5-01e2bab9c04a",
   "metadata": {},
   "source": [
    "### Wells"
   ]
  },
  {
   "cell_type": "code",
   "execution_count": null,
   "id": "c04cfb69-daa0-4ffb-8093-2f7a24e9a7b1",
   "metadata": {},
   "outputs": [],
   "source": [
    "well_spd = {\n",
    "    0: [(0, 10, 9, -75000.)],\n",
    "    2: [\n",
    "        (0, 10, 9, -75000.),\n",
    "        (2, 12, 4, -100000.)\n",
    "    ],\n",
    "}"
   ]
  },
  {
   "cell_type": "code",
   "execution_count": null,
   "id": "b277db43-7d0c-49d5-bbc8-a47e43d927d8",
   "metadata": {},
   "outputs": [],
   "source": [
    "wel = fp6.ModflowGwfwel(gwf, stress_period_data=well_spd)"
   ]
  },
  {
   "cell_type": "markdown",
   "id": "5d1e5a3b-89a8-4c54-8be5-667ae060f972",
   "metadata": {},
   "source": [
    "## Write the model files and run the simulation"
   ]
  },
  {
   "cell_type": "code",
   "execution_count": null,
   "id": "9b0f8390-b144-4ccc-83d6-f1d92863bcea",
   "metadata": {},
   "outputs": [],
   "source": [
    "sim.write_simulation()"
   ]
  },
  {
   "cell_type": "code",
   "execution_count": null,
   "id": "072bd85e-5c15-4b3c-8330-9f19cfe9bc35",
   "metadata": {},
   "outputs": [],
   "source": [
    "sim.run_simulation()"
   ]
  },
  {
   "cell_type": "markdown",
   "id": "1fbc9344-50e8-4bb1-8e98-c6ed5f7ae7a8",
   "metadata": {},
   "source": [
    "## Get model output"
   ]
  },
  {
   "cell_type": "code",
   "execution_count": null,
   "id": "f99e9b3d-1384-43bb-ab3e-33b8b39c9051",
   "metadata": {},
   "outputs": [],
   "source": [
    "gwf.output.methods()"
   ]
  },
  {
   "cell_type": "code",
   "execution_count": null,
   "id": "833323ee-48dd-4d4e-8265-3ee4ee2f84a0",
   "metadata": {},
   "outputs": [],
   "source": [
    "gwf.output.head().get_times()"
   ]
  },
  {
   "cell_type": "code",
   "execution_count": null,
   "id": "36ab0a5d-2c46-4c05-8ebb-2b0ddb29d421",
   "metadata": {},
   "outputs": [],
   "source": [
    "gwf.output.head().get_kstpkper()"
   ]
  },
  {
   "cell_type": "code",
   "execution_count": null,
   "id": "afcd6ae1-cfa3-436a-95d1-29c740eac75e",
   "metadata": {},
   "outputs": [],
   "source": [
    "kstpkper = (0,2)"
   ]
  },
  {
   "cell_type": "code",
   "execution_count": null,
   "id": "2df6dfaf-b8b1-440c-9092-0c06b0c2ace3",
   "metadata": {},
   "outputs": [],
   "source": [
    "head = gwf.output.head().get_data(kstpkper=kstpkper)"
   ]
  },
  {
   "cell_type": "code",
   "execution_count": null,
   "id": "329ff5aa-628e-4c71-bc59-7e82bd5d2c7a",
   "metadata": {},
   "outputs": [],
   "source": [
    "spdis = gwf.output.budget().get_data(text=\"SPDIS\", kstpkper=kstpkper)[0]"
   ]
  },
  {
   "cell_type": "code",
   "execution_count": null,
   "id": "114ed3ca-bb37-48c3-abcf-3c77256eb67f",
   "metadata": {},
   "outputs": [],
   "source": [
    "qx, qy, qz = flopy.utils.postprocessing.get_specific_discharge(spdis, gwf)"
   ]
  },
  {
   "cell_type": "markdown",
   "id": "ede14e0d-6fa3-4f98-a3af-584f24724a1d",
   "metadata": {},
   "source": [
    "## Plot model results"
   ]
  },
  {
   "cell_type": "code",
   "execution_count": null,
   "id": "b8650c00-f3f8-4b55-a645-c305413c29da",
   "metadata": {},
   "outputs": [],
   "source": [
    "plt_lay = 2\n",
    "xsec_row = 12"
   ]
  },
  {
   "cell_type": "markdown",
   "id": "abb3c299-bf6f-424d-9e7b-e41c312e2cef",
   "metadata": {},
   "source": [
    "### Map"
   ]
  },
  {
   "cell_type": "code",
   "execution_count": null,
   "id": "d58c7580-d5ea-44f5-94bc-e25a13ec065b",
   "metadata": {},
   "outputs": [],
   "source": [
    "pmv = flopy.plot.PlotMapView(model=gwf, layer=plt_lay)\n",
    "hp = pmv.plot_array(head)\n",
    "pmv.plot_grid()\n",
    "pmv.plot_vector(qx, qy)\n",
    "cb = plt.colorbar(hp, shrink=0.75)"
   ]
  },
  {
   "cell_type": "markdown",
   "id": "e7671fc6-ae0c-4ab2-a70a-3a3f0bf00284",
   "metadata": {},
   "source": [
    "### Cross-section"
   ]
  },
  {
   "cell_type": "code",
   "execution_count": null,
   "id": "05503faa-3b0f-43ea-a841-0f7942df2e25",
   "metadata": {},
   "outputs": [],
   "source": [
    "xsect = flopy.plot.PlotCrossSection(model=gwf, line={\"Row\": xsec_row})\n",
    "csa = xsect.plot_array(head, head=head)\n",
    "linecollection = xsect.plot_grid()\n",
    "quiver = xsect.plot_vector(\n",
    "    qx,\n",
    "    qy,\n",
    "    qz,\n",
    "    head=head,\n",
    "    hstep=2,\n",
    "    normalize=True,\n",
    "    color=\"green\",\n",
    "    scale=30,\n",
    "    headwidth=3,\n",
    "    headlength=3,\n",
    "    headaxislength=3,\n",
    "    zorder=10,\n",
    ")\n",
    "\n",
    "cb = plt.colorbar(csa, shrink=0.75)"
   ]
  },
  {
   "cell_type": "code",
   "execution_count": null,
   "id": "079ee383-4212-4659-a1a5-4f93fbee96f0",
   "metadata": {},
   "outputs": [],
   "source": []
  }
 ],
 "metadata": {
  "kernelspec": {
   "display_name": "Python 3 (ipykernel)",
   "language": "python",
   "name": "python3"
  },
  "language_info": {
   "codemirror_mode": {
    "name": "ipython",
    "version": 3
   },
   "file_extension": ".py",
   "mimetype": "text/x-python",
   "name": "python",
   "nbconvert_exporter": "python",
   "pygments_lexer": "ipython3",
   "version": "3.11.6"
  }
 },
 "nbformat": 4,
 "nbformat_minor": 5
}
