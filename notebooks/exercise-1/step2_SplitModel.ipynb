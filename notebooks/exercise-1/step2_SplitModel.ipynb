{
 "cells": [
  {
   "cell_type": "code",
   "execution_count": null,
   "id": "e9b48f95-ed89-4b6f-9ca9-bc36ba2ffdd0",
   "metadata": {},
   "outputs": [],
   "source": [
    "import pathlib as pl\n",
    "import numpy as np\n",
    "import matplotlib.pyplot as plt\n",
    "import flopy\n",
    "from flopy.mf6.utils import Mf6Splitter\n",
    "from simple_split import simple_mapping"
   ]
  },
  {
   "cell_type": "markdown",
   "id": "5aa2efef-b777-4eec-b437-4a89b7beb424",
   "metadata": {},
   "source": [
    "# Example 1 Model - Split the basin into a multi-model simulation and run in serial"
   ]
  },
  {
   "cell_type": "code",
   "execution_count": null,
   "id": "18cbd1ef-4bb6-49f7-933c-585ec37fb48f",
   "metadata": {},
   "outputs": [],
   "source": [
    "# model name and simulation workspace\n",
    "name = \"ex1\"\n",
    "ws = pl.Path(\"working/single\")"
   ]
  },
  {
   "cell_type": "markdown",
   "id": "d4c8d754-3f36-4bdf-820c-bd9750c2c8a4",
   "metadata": {},
   "source": [
    "# Load the base model"
   ]
  },
  {
   "cell_type": "code",
   "execution_count": null,
   "id": "fc996e95-3d9e-4e51-a07f-30431887334e",
   "metadata": {},
   "outputs": [],
   "source": [
    "# load the single model using flopy.mf6.MFSimulation.load()\n"
   ]
  },
  {
   "cell_type": "code",
   "execution_count": null,
   "id": "c2d82d58-a106-41f5-966b-4697c28f8fae",
   "metadata": {},
   "outputs": [],
   "source": [
    "# get the gwf model in the simulation for model splitting and later plotting\n"
   ]
  },
  {
   "cell_type": "markdown",
   "id": "09da808f-5bc8-4150-b557-809ddec7e537",
   "metadata": {},
   "source": [
    "# Split the model\n",
    "\n",
    "## Create the splitting array\n",
    "\n",
    "Use the `simple_mapping()` function in the notebook to develop a splitting array for the model."
   ]
  },
  {
   "cell_type": "code",
   "execution_count": null,
   "id": "edd9d1d8-673a-40f5-bb76-584a70255464",
   "metadata": {},
   "outputs": [],
   "source": [
    "# split the model using simple_mapping() and the modelgrid\n"
   ]
  },
  {
   "cell_type": "code",
   "execution_count": null,
   "id": "2996abaa-1b02-4138-b293-5116e64d5bf5",
   "metadata": {},
   "outputs": [],
   "source": [
    "# plot the splitting array using imshow or flopy plotting\n"
   ]
  },
  {
   "cell_type": "markdown",
   "id": "de54905d-610d-4743-8ec7-a159f569160e",
   "metadata": {},
   "source": [
    "## Split the base model"
   ]
  },
  {
   "cell_type": "code",
   "execution_count": null,
   "id": "12c9666f-2eb1-468a-800f-91a79bc54e37",
   "metadata": {},
   "outputs": [],
   "source": [
    "# path for the split model\n",
    "new_ws = pl.Path(\"working/split\")"
   ]
  },
  {
   "cell_type": "code",
   "execution_count": null,
   "id": "e14edcd6-42b5-45db-9f01-2fbbf2bfeb7f",
   "metadata": {},
   "outputs": [],
   "source": [
    "# create a model splitting object using Mf6Splitter\n"
   ]
  },
  {
   "cell_type": "code",
   "execution_count": null,
   "id": "a1e89a75-eca0-4de0-ad7d-7dc055e4b067",
   "metadata": {},
   "outputs": [],
   "source": [
    "# split the model using .split_model() and the splitting array\n"
   ]
  },
  {
   "cell_type": "code",
   "execution_count": null,
   "id": "6ef90efc-25b4-4f55-8f60-b4c7ec49bef6",
   "metadata": {},
   "outputs": [],
   "source": [
    "# set the simulation path for the split model to new_ws using set_sim_path\n"
   ]
  },
  {
   "cell_type": "markdown",
   "id": "5d1e5a3b-89a8-4c54-8be5-667ae060f972",
   "metadata": {},
   "source": [
    "## Write the model files and run the simulation"
   ]
  },
  {
   "cell_type": "code",
   "execution_count": null,
   "id": "9b0f8390-b144-4ccc-83d6-f1d92863bcea",
   "metadata": {},
   "outputs": [],
   "source": [
    "# write the split model\n"
   ]
  },
  {
   "cell_type": "code",
   "execution_count": null,
   "id": "072bd85e-5c15-4b3c-8330-9f19cfe9bc35",
   "metadata": {},
   "outputs": [],
   "source": [
    "# run the split model\n"
   ]
  },
  {
   "cell_type": "code",
   "execution_count": null,
   "id": "ddd00d8e-71eb-453f-992e-faf03da42851",
   "metadata": {},
   "outputs": [],
   "source": [
    "# save the node mapping from the split model to the original model using .save_node_mapping()\n",
    "mfsplit.save_node_mapping(new_ws / \"split.json\")"
   ]
  },
  {
   "cell_type": "markdown",
   "id": "1fbc9344-50e8-4bb1-8e98-c6ed5f7ae7a8",
   "metadata": {},
   "source": [
    "## Get model output\n",
    "\n",
    "### Single model output\n",
    "\n",
    "Heads"
   ]
  },
  {
   "cell_type": "code",
   "execution_count": null,
   "id": "afcd6ae1-cfa3-436a-95d1-29c740eac75e",
   "metadata": {},
   "outputs": [],
   "source": [
    "# Set a select (time step, stress period) or totim that can be used for all output extractions\n",
    "kstpkper = (9,2)"
   ]
  },
  {
   "cell_type": "code",
   "execution_count": null,
   "id": "2df6dfaf-b8b1-440c-9092-0c06b0c2ace3",
   "metadata": {},
   "outputs": [],
   "source": [
    "# get the head data for the single model\n",
    "# name the variable head\n",
    "head = gwf.output.head().get_data(kstpkper=kstpkper"
   ]
  },
  {
   "cell_type": "markdown",
   "id": "9feb1d6e-3f36-476f-90f1-b5d7ce4d3811",
   "metadata": {},
   "source": [
    "Specific Discharge"
   ]
  },
  {
   "cell_type": "code",
   "execution_count": null,
   "id": "329ff5aa-628e-4c71-bc59-7e82bd5d2c7a",
   "metadata": {},
   "outputs": [],
   "source": [
    "# get the specific discharge\n",
    "spdis = gwf.output.budget().get_data(text=\"DATA-SPDIS\", kstpkper=kstpkper)[0]"
   ]
  },
  {
   "cell_type": "code",
   "execution_count": null,
   "id": "114ed3ca-bb37-48c3-abcf-3c77256eb67f",
   "metadata": {},
   "outputs": [],
   "source": [
    "# convert specific discharge into qx, qy, and qz vectors using flopy.utils.postprocessing.get_specific_discharge()\n",
    "# name the variables qx, qy, and qz\n",
    "qx, qy, qz = flopy.utils.postprocessing.get_specific_discharge(spdis, gwf)"
   ]
  },
  {
   "cell_type": "markdown",
   "id": "71124d99-c698-46c7-8547-6cab66b0dc1d",
   "metadata": {},
   "source": [
    "### Split model output\n",
    "\n",
    "#### Groundwater Head\n",
    "\n",
    "Create a dictionary of head results for each model and reconstruct a single head array using the model splitter `.reconstruct_array()` function."
   ]
  },
  {
   "cell_type": "code",
   "execution_count": null,
   "id": "f9f1b5fd-ae18-4860-b4d2-36ad4bd6ecd4",
   "metadata": {},
   "outputs": [],
   "source": [
    "# create a dictionary for the split model head data and reconstruct a single array\n",
    "head_dict = {}\n",
    "for idx, modelname in enumerate(new_sim.model_names):\n",
    "    mnum = int(modelname.split(\"_\")[-1])\n",
    "    h = new_sim.get_model(modelname).output.head().get_data(kstpkper=kstpkper)\n",
    "    head_dict[mnum] = h\n",
    "new_head = mfsplit.reconstruct_array(head_dict)"
   ]
  },
  {
   "cell_type": "markdown",
   "id": "324e6844-b189-4e77-8707-cc326359ecea",
   "metadata": {},
   "source": [
    "#### Specific discharge\n",
    "\n",
    "Reconstruct single specific discharge components in the x-, y-, and z-directions using the model splitter `.reconstruct_array()` function."
   ]
  },
  {
   "cell_type": "code",
   "execution_count": null,
   "id": "90b60783-e337-4482-92af-3396bb9a3c0d",
   "metadata": {},
   "outputs": [],
   "source": [
    "# create a dictionary for the split model specific discharge data and reconstruct a single array for qx, qy, and qz\n",
    "qx_dict = {}\n",
    "qy_dict = {}\n",
    "qz_dict = {}\n",
    "for idx, modelname in enumerate(new_sim.model_names):\n",
    "    mnum = int(modelname.split(\"_\")[-1])\n",
    "    new_gwf = new_sim.get_model(modelname)\n",
    "    h = new_gwf.output.head().get_data(kstpkper=kstpkper)\n",
    "    spdis = new_gwf.output.budget().get_data(text=\"DATA-SPDIS\", kstpkper=kstpkper)[0]\n",
    "    qqx, qqy, qqz = flopy.utils.postprocessing.get_specific_discharge(spdis, new_gwf)\n",
    "    qx_dict[mnum] = qqx\n",
    "    qy_dict[mnum] = qqy\n",
    "    qz_dict[mnum] = qqz\n",
    "new_qx = mfsplit.reconstruct_array(qx_dict)\n",
    "new_qy = mfsplit.reconstruct_array(qy_dict)\n",
    "new_qz = mfsplit.reconstruct_array(qz_dict)"
   ]
  },
  {
   "cell_type": "markdown",
   "id": "aaea179b-170e-4d2b-b14d-5660ac243bae",
   "metadata": {},
   "source": [
    "## Compare head results\n",
    "\n",
    "Use numpy to evaluate the difference between the two head arrays"
   ]
  },
  {
   "cell_type": "code",
   "execution_count": null,
   "id": "d3e64545-e53d-443a-89f2-a7952aa0cd3b",
   "metadata": {},
   "outputs": [],
   "source": []
  },
  {
   "cell_type": "code",
   "execution_count": null,
   "id": "59c451e4-e354-4c9d-94cf-43c510a12426",
   "metadata": {},
   "outputs": [],
   "source": []
  },
  {
   "cell_type": "markdown",
   "id": "ede14e0d-6fa3-4f98-a3af-584f24724a1d",
   "metadata": {},
   "source": [
    "## Plot model results"
   ]
  },
  {
   "cell_type": "code",
   "execution_count": null,
   "id": "b8650c00-f3f8-4b55-a645-c305413c29da",
   "metadata": {},
   "outputs": [],
   "source": [
    "# set the model layer of interest (options are 0, 1, or 2)\n",
    "plt_lay = 2"
   ]
  },
  {
   "cell_type": "code",
   "execution_count": null,
   "id": "7609b5bb-5cf4-4323-a6d8-fcd64e8784fc",
   "metadata": {},
   "outputs": [],
   "source": [
    "# calculate the min and max head value for the single model to ensure the color scheme is the same\n",
    "vmin, vmax = head[plt_lay].min(), head[plt_lay].max()"
   ]
  },
  {
   "cell_type": "markdown",
   "id": "abb3c299-bf6f-424d-9e7b-e41c312e2cef",
   "metadata": {},
   "source": [
    "### Create a Comparison Map"
   ]
  },
  {
   "cell_type": "code",
   "execution_count": null,
   "id": "d58c7580-d5ea-44f5-94bc-e25a13ec065b",
   "metadata": {},
   "outputs": [],
   "source": [
    "fig = plt.figure(figsize=(15,7))\n",
    "\n",
    "ax = fig.add_subplot(1, 3, 1)\n",
    "pmv = flopy.plot.PlotMapView(model=sim.get_model(), ax=ax, layer=plt_lay)\n",
    "hp = pmv.plot_array(head, vmin=vmin, vmax=vmax)\n",
    "pmv.plot_grid()\n",
    "pmv.plot_vector(qx, qy)\n",
    "cb = plt.colorbar(hp, ax=ax, shrink=0.75, orientation=\"horizontal\")\n",
    "ax.set_title(\"Single Model\")\n",
    "\n",
    "ax = fig.add_subplot(1, 3, 2)\n",
    "pmv = flopy.plot.PlotMapView(model=sim.get_model(), ax=ax, layer=plt_lay)\n",
    "hp = pmv.plot_array(new_head, vmin=vmin, vmax=vmax)\n",
    "pmv.plot_vector(new_qx, new_qy)\n",
    "pmv.plot_grid()\n",
    "cb = plt.colorbar(hp, ax=ax, shrink=0.75, orientation=\"horizontal\")   \n",
    "ax.set_title(\"Split Model\")\n",
    "\n",
    "ax = fig.add_subplot(1, 3, 3)\n",
    "pmv = flopy.plot.PlotMapView(model=sim.get_model(), ax=ax, layer=plt_lay)\n",
    "dp = pmv.plot_array(head-new_head)\n",
    "pmv.plot_grid()\n",
    "cb = plt.colorbar(dp, ax=ax, shrink=0.75, orientation=\"horizontal\")\n",
    "ax.set_title(\"Single Model - Split Model\");"
   ]
  },
  {
   "cell_type": "code",
   "execution_count": null,
   "id": "3dd51857-5ade-4dc0-9a48-a091a84b6444",
   "metadata": {},
   "outputs": [],
   "source": []
  }
 ],
 "metadata": {
  "kernelspec": {
   "display_name": "Python 3 (ipykernel)",
   "language": "python",
   "name": "python3"
  },
  "language_info": {
   "codemirror_mode": {
    "name": "ipython",
    "version": 3
   },
   "file_extension": ".py",
   "mimetype": "text/x-python",
   "name": "python",
   "nbconvert_exporter": "python",
   "pygments_lexer": "ipython3",
   "version": "3.11.0"
  }
 },
 "nbformat": 4,
 "nbformat_minor": 5
}
