{
 "cells": [
  {
   "cell_type": "markdown",
   "metadata": {},
   "source": [
    "# Introduction: create a simple MODFLOW 6 model using FloPy\n",
    "\n",
    "These notebooks present a basic overview of using FloPy to create, run, and plot simulated results.\n",
    "\n",
    "## Problem Introduction\n",
    "The flow system is in a valley which is 10,000 m wide and 10,500 m long. There is an unconfined upper sand aquifer and a lower sand aquifer which are separated by a fine- grained silt that acts as a confining layer for the lower aquifer. The flow system is bounded on all sides and its bottom by impermeable bedrock. At the eastern boundary there is a river, with a stage of 320 m, which flows south.\n",
    "\n",
    "In the upper aquifer, the horizontal conductivity in both the x and y directions is 50 m/d, the vertical conductivity is 10 m/d. The bottom of the upper aquifer is at an elevation of 220 m. The top is at land surface, which can be specified as 400 m. In the silt unit, the horizontal and vertical conductivity is 0.01 m/d. The bottom of the silt layer is at 200 m. In the lower aquifer the horizontal conductivity in both the x and y directions is 200 m/d, the vertical conductivity is 20 m/d. The bottom of the lower layer is at 0 m. The specific storage coefficient ($Ss$) and specific yield ($Sy$) for all of the units is 0.0001 1/d and 0.1, respectively.\n",
    "\n",
    "## Model setup\n",
    "\n",
    "The model will be discretized using a structured grid (`DIS`). Use 3 layers, 21 rows and 20 columns with a uniform horizontal grid spacing of 500 meters in each direction. Time will be descretized into four stress periods with total period lengths of 0., 300000., 36500., and 300000. days. All of the stress periods are steady state except for the third stress period, which is transient. A single time step will be simulated for the steady state stress periods. The transient stress period (stress period 3), will be split into 10 time steps and a time step multiplier of 1.5 will be used.\n",
    "\n",
    "The upper aquifer is represented by layer 1, the silt is represented by layer 2, and the lower aquifer is represented by layer 3. To represent water table conditions in the model, convertible cells will be used in the node property flow (`NPF`) and storage (`STO`) packages and `ICELLTYPE` and `ICONVERT` will be set to 1, respectively, for all three layers.\n",
    "\n",
    "A constant recharge rate of 0.005 m/d is applied to the model in all stress periods. The eastern boundary will be a constant head boundary representing the river with a head of 320 m in all stress periods. Groundwater pumpage is not specified in the first stress period. In the second stress period, there is a well located in layer 1, row 11, column 10 with a pumping rate of 75,000 m$^3$/d. A second well located at layer 3, row 13, column 5 is added in the third stress period with a pumping rate of 100,000 m$^3$/d.\n",
    "\n",
    "<img src=\"./simple_problem.png\" alt=\"drawing\" width=\"1000\"/>\n",
    "\n",
    "\n",
    "## Problem Notebooks\n",
    "\n",
    "The exercise consists of the following 3 steps, each of them presented in a separate notebook:\n",
    "\n",
    "1. [Build and run the (serial) model with FloPy](./step1_BuildModel.ipynb)\n",
    "2. [Split the basin into a multi-model simulation, run in serial](./step2_SplitModel.ipynb)\n",
    "3. [Run the model in parallel](./step3_ParallelModel.ipynb)\n",
    "\n",
    "\n",
    "## If you run into problems\n",
    "\n",
    "Completed versions of the notebooks are also available if you fall behind during the class:\n",
    "\n",
    "1. [Completed build and run the (serial) model with FloPy](./step1_BuildModel_completed.ipynb)\n",
    "2. [Completed split the basin into a multi-model simulation, run in serial](./step2_SplitModel_completed.ipynb)\n",
    "3. [Completed run the model in parallel](./step3_ParallelModel_completed.ipynb)\n"
   ]
  },
  {
   "cell_type": "markdown",
   "metadata": {},
   "source": []
  }
 ],
 "metadata": {
  "kernelspec": {
   "display_name": "Python 3 (ipykernel)",
   "language": "python",
   "name": "python3"
  },
  "language_info": {
   "codemirror_mode": {
    "name": "ipython",
    "version": 3
   },
   "file_extension": ".py",
   "mimetype": "text/x-python",
   "name": "python",
   "nbconvert_exporter": "python",
   "pygments_lexer": "ipython3",
   "version": "3.11.0"
  }
 },
 "nbformat": 4,
 "nbformat_minor": 4
}
