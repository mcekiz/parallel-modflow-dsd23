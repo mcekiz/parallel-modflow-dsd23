{
 "cells": [
  {
   "cell_type": "markdown",
   "metadata": {},
   "source": [
    "# Split the basin model into multiple domains\n",
    "\n",
    "In this notebook we split the single-model base simulation generated in the previous step into a multi-model simulation. To do this we use a facility in FloPy called the __Model Splitter__. After the splitting, we will run the simulation in parallel before continuing to the next notebook.\n",
    "\n",
    "### Imports"
   ]
  },
  {
   "cell_type": "code",
   "execution_count": null,
   "metadata": {},
   "outputs": [],
   "source": [
    "# General\n",
    "import os\n",
    "import shutil\n",
    "import matplotlib.pyplot as plt\n",
    "import pathlib as pl\n",
    "\n",
    "# FloPy\n",
    "import flopy\n",
    "from flopy.mf6.utils import Mf6Splitter\n",
    "\n",
    "# Local\n",
    "from utilities import *"
   ]
  },
  {
   "cell_type": "markdown",
   "metadata": {},
   "source": [
    "## Set the number of domains\n",
    "\n",
    "Here we set the number of domains to split the simulation into. This will generate a single MODFLOW 6 model for each domain. In a parallel simulation run we can then run every model on its own processor core. You probably do not want to oversubscribe to the number of available processors on your machine (i.e. fire up more processes than actual available processor cores). Library methods often return the number of cores including hyperthreading, where a processor core can take two processes at the same time (though only quasi-concurrently). The same is true for `os.cpu_count()`. If you want to know the details of the cpu architecture that is available, run the `lscpu` command in your shell."
   ]
  },
  {
   "cell_type": "code",
   "execution_count": null,
   "metadata": {},
   "outputs": [],
   "source": [
    "# set the number of domains to split into and\n",
    "# the number of parallel processes to use\n",
    "ndomains = 4\n",
    "\n",
    "# set the max. number of physical cores you can run\n",
    "# on, excluding hyperthreading. (Check with 'lscpu'\n",
    "# on the command line what your architecture is)\n",
    "max_nr_cores = 4\n",
    "\n",
    "# check\n",
    "if ndomains > max_nr_cores:\n",
    "  raise ValueError(f\"Partitioning into more domains than cores available\")\n",
    "\n",
    "# it should be larger than 1, because that is our base\n",
    "if ndomains < 2:\n",
    "  raise ValueError(f\"Error: this will not work with less than 2 domains...\")"
   ]
  },
  {
   "cell_type": "markdown",
   "metadata": {},
   "source": [
    "## Load the base model of the watershed"
   ]
  },
  {
   "cell_type": "code",
   "execution_count": null,
   "metadata": {},
   "outputs": [],
   "source": [
    "# get the path to the base model directory\n",
    "base_ws = get_serial_workspace()\n",
    "\n",
    "# load the FloPy simulation\n",
    "base_sim = flopy.mf6.MFSimulation.load(\n",
    "    sim_ws=base_ws,\n",
    ")"
   ]
  },
  {
   "cell_type": "code",
   "execution_count": null,
   "metadata": {},
   "outputs": [],
   "source": [
    "# the base GWF model\n",
    "base_gwf = base_sim.get_model()\n",
    "total_nr_cells, nr_active_cells = get_model_cell_count(base_gwf)\n",
    "\n",
    "print(f\"The base model has {nr_active_cells} active cells\")"
   ]
  },
  {
   "cell_type": "markdown",
   "metadata": {},
   "source": [
    "## Split the base simulation\n",
    "\n",
    "Here we use the Model Splitter on the simulation that is loaded into memory. In the background the splitter uses PyMetis (https://pypi.org/project/PyMetis/) to partition the grid. PyMetis itself wraps the Metis (http://glaros.dtc.umn.edu/gkhome/views/metis) graph partitioning software for the actual work."
   ]
  },
  {
   "cell_type": "code",
   "execution_count": null,
   "metadata": {},
   "outputs": [],
   "source": [
    "# pass the base simulation object to the splitter\n",
    "mfsplit = Mf6Splitter(base_sim)\n",
    "\n",
    "# create a splitting array from the set number of domains\n",
    "split_array = mfsplit.optimize_splitting_mask(nparts=ndomains)\n",
    "\n",
    "# plot the splitting array, every color (value) is a model\n",
    "fig, ax = plt.subplots(figsize=(8, 4))\n",
    "ax.set_aspect(\"equal\")\n",
    "pmv = flopy.plot.PlotMapView(model=base_gwf, ax=ax)\n",
    "pa = pmv.plot_array(split_array)\n",
    "plt.colorbar(pa, shrink=0.5)\n",
    "plt.show()"
   ]
  },
  {
   "cell_type": "markdown",
   "metadata": {},
   "source": [
    "Now generate a new, partitioned simulation object:"
   ]
  },
  {
   "cell_type": "code",
   "execution_count": null,
   "metadata": {},
   "outputs": [],
   "source": [
    "# this is the actual model splitting\n",
    "new_sim = mfsplit.split_model(split_array)\n",
    "\n",
    "# check the model sizes\n",
    "nr_active_cells_par = []\n",
    "for model_name in new_sim.model_names:\n",
    "  model = new_sim.get_model(model_name)\n",
    "  nr_active_cells_par.append(get_model_cell_count(model)[1])\n",
    "print(f\"Active cells in split simulation: {nr_active_cells_par}\")\n",
    "print(f\"Active cells in single model: {nr_active_cells}\")\n"
   ]
  },
  {
   "cell_type": "markdown",
   "metadata": {},
   "source": [
    "Write everything to disk"
   ]
  },
  {
   "cell_type": "code",
   "execution_count": null,
   "metadata": {},
   "outputs": [],
   "source": [
    "# create the simulation directory\n",
    "parallel_ws = get_workspace(ndomains)\n",
    "shutil.rmtree(parallel_ws, ignore_errors=True)\n",
    "\n",
    "# set it and write\n",
    "new_sim.set_sim_path(parallel_ws)\n",
    "new_sim.write_simulation(silent=True)\n",
    "\n",
    "# save the node mapping\n",
    "# (this will help when combining the results from the domains and\n",
    "# comparing against the base simulation)\n",
    "mfsplit.save_node_mapping(parallel_ws / \"mfsplit_node_mapping.json\")"
   ]
  },
  {
   "cell_type": "markdown",
   "metadata": {},
   "source": [
    "## Parallel run of the multi-model simulation"
   ]
  },
  {
   "cell_type": "code",
   "execution_count": null,
   "metadata": {},
   "outputs": [],
   "source": [
    "# run parallel\n",
    "new_sim.run_simulation(\n",
    "    processors=ndomains,\n",
    ")"
   ]
  },
  {
   "cell_type": "code",
   "execution_count": null,
   "metadata": {},
   "outputs": [],
   "source": []
  }
 ],
 "metadata": {
  "kernelspec": {
   "display_name": "Python 3 (ipykernel)",
   "language": "python",
   "name": "python3"
  },
  "language_info": {
   "codemirror_mode": {
    "name": "ipython",
    "version": 3
   },
   "file_extension": ".py",
   "mimetype": "text/x-python",
   "name": "python",
   "nbconvert_exporter": "python",
   "pygments_lexer": "ipython3",
   "version": "3.11.0"
  }
 },
 "nbformat": 4,
 "nbformat_minor": 4
}
