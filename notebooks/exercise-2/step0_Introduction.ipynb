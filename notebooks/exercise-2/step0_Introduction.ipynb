{
 "cells": [
  {
   "cell_type": "markdown",
   "metadata": {},
   "source": [
    "# Introduction: running a watershed in parallel\n",
    "\n",
    "These notebooks present the parallel capabilities recently added to MODFLOW 6. It is largely based on the hypothetical watershed presented in a recent paper on using FloPy to set up workflows for structured and unstructured MODFLOW models (https://doi.org/10.1111/gwat.13327). The following figure from that paper illustrates some of the properties and layout of the watershed:\n",
    "\n",
    "<img src=\"./watershed.jpg\" alt=\"drawing\" width=\"700\"/>\n",
    "\n",
    "In particular, we will use the pre- and post-processing capabilities for (parallel) MODFLOW 6. The spatial discretization of the model will be unstructured, a \"discretization by vertices\" (DISV) to accomodate the Voronoi grid also shown in the figure. Polylines will be used to constrain the generated grid to the extent of the basin and refine it near the river network.\n",
    "\n",
    "The exercise consists of the following 4 steps, each of them presented in a separate notebook:\n",
    "\n",
    "1. [Build and run the (serial) basin model with FloPy](./step1_BuildBasin_completed.ipynb)\n",
    "2. [Split the basin into a multi-model simulation, run in parallel](./step2_SplitBasin_completed.ipynb)\n",
    "3. [Comparing results: parallel versus serial](./step3_CompareBasin_completed.ipynb)\n",
    "4. [Parallel performance assessment](./step4_PerformanceBasin_completed.ipynb)\n",
    "\n",
    "To better study the performance behavior, you can run steps 2 and 3 repeatedly while changing the number of domains (e.g. ndomains = 1,2,4,8) into which the serial model is partitioned. Step 4 can then be used to generate a so called scaling plot, showing the speedup as a function of the number of processor cores being used."
   ]
  },
  {
   "cell_type": "markdown",
   "metadata": {},
   "source": []
  }
 ],
 "metadata": {
  "kernelspec": {
   "display_name": "Python 3 (ipykernel)",
   "language": "python",
   "name": "python3"
  },
  "language_info": {
   "codemirror_mode": {
    "name": "ipython",
    "version": 3
   },
   "file_extension": ".py",
   "mimetype": "text/x-python",
   "name": "python",
   "nbconvert_exporter": "python",
   "pygments_lexer": "ipython3",
   "version": "3.11.0"
  }
 },
 "nbformat": 4,
 "nbformat_minor": 4
}
