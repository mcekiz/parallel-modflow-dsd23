{
 "cells": [
  {
   "cell_type": "markdown",
   "id": "84f84e34-3ffa-4266-9ef7-f8ddc32684ab",
   "metadata": {},
   "source": [
    "# Analyze parallel performance\n",
    "\n",
    "In this notebook we look at the performance of the parallel simulation versus the serial reference case. Before comparing things such as execution speed and memory consumption, make sure that all cases used in the study have been run successfully to completion and the outcomes are equivalent.\n",
    "\n",
    "### Imports"
   ]
  },
  {
   "cell_type": "code",
   "execution_count": 3,
   "metadata": {},
   "outputs": [],
   "source": [
    "# General\n",
    "#from flopy.mf6.utils import MFSimulationList"
   ]
  },
  {
   "cell_type": "markdown",
   "metadata": {},
   "source": [
    "## Collect performance data\n",
    "\n",
    "First collect some of the performance data from the simulation workspace directories and assemble them into a dictionary. The next step will then be plotting the results in an overview."
   ]
  },
  {
   "cell_type": "code",
   "execution_count": null,
   "metadata": {},
   "outputs": [],
   "source": []
  },
  {
   "cell_type": "markdown",
   "metadata": {},
   "source": [
    "## Plot performance results"
   ]
  },
  {
   "cell_type": "code",
   "execution_count": null,
   "metadata": {},
   "outputs": [],
   "source": []
  }
 ],
 "metadata": {
  "kernelspec": {
   "display_name": "Python 3 (ipykernel)",
   "language": "python",
   "name": "python3"
  },
  "language_info": {
   "codemirror_mode": {
    "name": "ipython",
    "version": 3
   },
   "file_extension": ".py",
   "mimetype": "text/x-python",
   "name": "python",
   "nbconvert_exporter": "python",
   "pygments_lexer": "ipython3",
   "version": "3.11.0"
  }
 },
 "nbformat": 4,
 "nbformat_minor": 5
}
