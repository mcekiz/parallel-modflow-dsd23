{
 "cells": [
  {
   "cell_type": "markdown",
   "metadata": {},
   "source": [
    "# Compare the parallel results to the serial case\n",
    "\n",
    "In the previous notebook you have generated and executed 1 or, more likely, multiple parallel simulations. This notebook can be used to compare the results to the serial run to make sure that the parallel simulations were successful before continuing to study their performance characteristics.\n",
    "\n",
    "### Imports"
   ]
  },
  {
   "cell_type": "code",
   "execution_count": null,
   "metadata": {},
   "outputs": [],
   "source": [
    "# General\n",
    "import numpy as np\n",
    "import matplotlib.pyplot as plt\n",
    "import pathlib as pl\n",
    "\n",
    "# FloPy\n",
    "from flopy.mf6.utils import Mf6Splitter\n",
    "\n",
    "# Local\n",
    "from utilities import *"
   ]
  },
  {
   "cell_type": "markdown",
   "metadata": {},
   "source": [
    "## Parallel simulations\n",
    "\n",
    "First list all available simulations using the helper function:"
   ]
  },
  {
   "cell_type": "code",
   "execution_count": null,
   "metadata": {},
   "outputs": [],
   "source": [
    "ws = get_all_workspaces()\n",
    "\n",
    "# print inventory\n",
    "print(f\"ndomains, workspace\")\n",
    "for key, val in ws.items():\n",
    "  print(f\"{key}, {val}\")"
   ]
  },
  {
   "cell_type": "markdown",
   "metadata": {},
   "source": [
    "Set the number of domains to compare"
   ]
  },
  {
   "cell_type": "code",
   "execution_count": null,
   "metadata": {},
   "outputs": [],
   "source": [
    "# set for comparing against serial (ndomains = 1) results\n",
    "ndomains = 4\n",
    "\n",
    "if ndomains not in ws:\n",
    "  raise ValueError(f\"Error: workspace not available for ndomains = {ndomains}\")\n",
    "\n",
    "# set workspaces to compare (parallel versus serial)\n",
    "serial_ws = get_serial_workspace()\n",
    "parallel_ws = get_workspace(ndomains)"
   ]
  },
  {
   "cell_type": "markdown",
   "metadata": {},
   "source": [
    "## Load the serial (single model) basin simulation"
   ]
  },
  {
   "cell_type": "code",
   "execution_count": null,
   "metadata": {},
   "outputs": [],
   "source": [
    "# load the serial reference from disk\n",
    "base_sim = flopy.mf6.MFSimulation.load(\n",
    "    sim_ws=serial_ws,\n",
    "    verbosity_level=0,\n",
    ")"
   ]
  },
  {
   "cell_type": "markdown",
   "metadata": {},
   "source": [
    "## Load the parallel basin simulation"
   ]
  },
  {
   "cell_type": "code",
   "execution_count": null,
   "metadata": {},
   "outputs": [],
   "source": [
    "par_sim = flopy.mf6.MFSimulation.load(\n",
    "    sim_ws=parallel_ws,\n",
    "    verbosity_level=0,\n",
    ")"
   ]
  },
  {
   "cell_type": "markdown",
   "metadata": {},
   "source": [
    "## Comparison between parallel and serial results\n",
    "\n",
    "Here the head values for the parallel, multi-model simulation are recombined using the Model Splitter and the JSON mapping file that was generated in the previous notebook. Then they can be compared to the results from the serial (base) simulation. For a successful parallel run, the maximum difference between the two should be of the order of the solver tolerance (NB compare the difference plot below with the value for `outer_dvclose` in the first notebook).\n",
    "\n",
    "Start with pulling out the head values for the base simulation:"
   ]
  },
  {
   "cell_type": "code",
   "execution_count": null,
   "metadata": {},
   "outputs": [],
   "source": [
    "# there is only one model here\n",
    "base_gwf = base_sim.get_model()\n",
    "times = base_gwf.output.head().get_times()\n",
    "\n",
    "# get heads for last timestep\n",
    "base_head = np.squeeze(base_gwf.output.head().get_data(totim=times[-1]))\n",
    "hmin, hmax = (\n",
    "    base_head.min(),\n",
    "    np.where(base_head < 1e30, base_head, 0).max(),\n",
    ")\n",
    "\n",
    "# for plotting\n",
    "contours = np.arange(0, 100, 10)"
   ]
  },
  {
   "cell_type": "markdown",
   "metadata": {},
   "source": [
    "### Reconstruct parallel heads into a single head array\n",
    "\n",
    "Load the node mapping array for the parallel basin model"
   ]
  },
  {
   "cell_type": "code",
   "execution_count": null,
   "metadata": {},
   "outputs": [],
   "source": [
    "json_path = parallel_ws / \"mfsplit_node_mapping.json\"\n",
    "mfsplit = Mf6Splitter(base_sim)\n",
    "mfsplit.load_node_mapping(par_sim, json_path)"
   ]
  },
  {
   "cell_type": "markdown",
   "metadata": {},
   "source": [
    "Build a dictionary with the model heads for each partition"
   ]
  },
  {
   "cell_type": "code",
   "execution_count": null,
   "metadata": {},
   "outputs": [],
   "source": [
    "# get model names, equals nr. of domains\n",
    "model_names = list(par_sim.model_names)\n",
    "\n",
    "# create a dictionary with head arrays for the reconstruction\n",
    "head_dict = {}\n",
    "for mname in model_names:\n",
    "    mnum = int(mname.split(\"_\")[-1])\n",
    "    head = par_sim.get_model(mname).output.head().get_data(totim=times[-1])\n",
    "    head_dict[mnum] = head"
   ]
  },
  {
   "cell_type": "markdown",
   "metadata": {},
   "source": [
    "And then reconstruct the head array using the functionality in the Model Splitter"
   ]
  },
  {
   "cell_type": "code",
   "execution_count": null,
   "metadata": {},
   "outputs": [],
   "source": [
    "par_head = mfsplit.reconstruct_array(head_dict)"
   ]
  },
  {
   "cell_type": "markdown",
   "metadata": {},
   "source": [
    "### Plot the results\n",
    "\n",
    "Now we have head arrays for both simulations (parallel and serial) that we can compare. The last step is to plot them and their difference:"
   ]
  },
  {
   "cell_type": "code",
   "execution_count": null,
   "metadata": {},
   "outputs": [],
   "source": [
    "# create the 3 head arrays for plotting\n",
    "diff_head = par_head - base_head\n",
    "head_array = [par_head, base_head, diff_head]\n",
    "\n",
    "# and create a figure with three plots\n",
    "fig = plt.figure(figsize=(6, 9))\n",
    "titles = [f\"parallel ({ndomains} partitions)\", \"serial\", \"difference (parallel - serial)\"]\n",
    "for idx in range(3):\n",
    "    ax = fig.add_subplot(3, 1, idx + 1)\n",
    "    ax.set_aspect(\"equal\")\n",
    "    ax.set_title(titles[idx])\n",
    "\n",
    "    if idx < 2:\n",
    "        levels = contours\n",
    "        vmin = hmin\n",
    "        vmax = hmax\n",
    "    else:\n",
    "        # the third plot is the difference and is pretty\n",
    "        # much 0 everywhere, hence no contouring here\n",
    "        levels = None\n",
    "        vmin = None\n",
    "        vmax = None\n",
    "\n",
    "    pmv = flopy.plot.PlotMapView(model=base_gwf, ax=ax, layer=0)\n",
    "    pa = pmv.plot_array(head_array[idx], vmin=vmin, vmax=vmax)\n",
    "    if levels is not None:\n",
    "        c = pmv.contour_array(\n",
    "            head_array[idx],\n",
    "            levels=levels,\n",
    "            colors=\"white\",\n",
    "            linewidths=0.75,\n",
    "            linestyles=\":\",\n",
    "        )\n",
    "        plt.clabel(c, fontsize=8)\n",
    "    if base_gwf.modelgrid.idomain is not None:\n",
    "        pmv.plot_inactive()\n",
    "    plt.colorbar(pa, ax=ax, shrink=0.5)\n",
    "\n",
    "plt.show()"
   ]
  },
  {
   "cell_type": "code",
   "execution_count": null,
   "metadata": {},
   "outputs": [],
   "source": []
  }
 ],
 "metadata": {
  "kernelspec": {
   "display_name": "Python 3 (ipykernel)",
   "language": "python",
   "name": "python3"
  },
  "language_info": {
   "codemirror_mode": {
    "name": "ipython",
    "version": 3
   },
   "file_extension": ".py",
   "mimetype": "text/x-python",
   "name": "python",
   "nbconvert_exporter": "python",
   "pygments_lexer": "ipython3",
   "version": "3.11.0"
  }
 },
 "nbformat": 4,
 "nbformat_minor": 4
}
